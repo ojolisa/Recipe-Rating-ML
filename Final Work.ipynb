{
 "cells": [
  {
   "cell_type": "code",
   "execution_count": 1,
   "id": "cf87c826",
   "metadata": {
    "_cell_guid": "b1076dfc-b9ad-4769-8c92-a6c4dae69d19",
    "_uuid": "8f2839f25d086af736a60e9eeb907d3b93b6e0e5",
    "execution": {
     "iopub.execute_input": "2024-03-29T16:48:03.351000Z",
     "iopub.status.busy": "2024-03-29T16:48:03.350340Z",
     "iopub.status.idle": "2024-03-29T16:48:03.367694Z",
     "shell.execute_reply": "2024-03-29T16:48:03.366719Z"
    },
    "papermill": {
     "duration": 0.032276,
     "end_time": "2024-03-29T16:48:03.370477",
     "exception": false,
     "start_time": "2024-03-29T16:48:03.338201",
     "status": "completed"
    },
    "tags": []
   },
   "outputs": [
    {
     "name": "stdout",
     "output_type": "stream",
     "text": [
      "/kaggle/input/recipe-for-rating-predict-food-ratings-using-ml/sample.csv\n",
      "/kaggle/input/recipe-for-rating-predict-food-ratings-using-ml/train.csv\n",
      "/kaggle/input/recipe-for-rating-predict-food-ratings-using-ml/test.csv\n"
     ]
    }
   ],
   "source": [
    "# This Python 3 environment comes with many helpful analytics libraries installed\n",
    "# It is defined by the kaggle/python Docker image: https://github.com/kaggle/docker-python\n",
    "# For example, here's several helpful packages to load\n",
    "\n",
    "# Input data files are available in the read-only \"../input/\" directory\n",
    "# For example, running this (by clicking run or pressing Shift+Enter) will list all files under the input directory\n",
    "\n",
    "import os\n",
    "for dirname, _, filenames in os.walk('/kaggle/input'):\n",
    "    for filename in filenames:\n",
    "        print(os.path.join(dirname, filename))\n",
    "\n",
    "# You can write up to 20GB to the current directory (/kaggle/working/) that gets preserved as output when you create a version using \"Save & Run All\" \n",
    "# You can also write temporary files to /kaggle/temp/, but they won't be saved outside of the current session"
   ]
  },
  {
   "cell_type": "markdown",
   "id": "56d6cd8c",
   "metadata": {
    "papermill": {
     "duration": 0.009275,
     "end_time": "2024-03-29T16:48:03.390029",
     "exception": false,
     "start_time": "2024-03-29T16:48:03.380754",
     "status": "completed"
    },
    "tags": []
   },
   "source": [
    "# **EDA and Data Preprocessing.**"
   ]
  },
  {
   "cell_type": "code",
   "execution_count": 2,
   "id": "21f9e0f8",
   "metadata": {
    "execution": {
     "iopub.execute_input": "2024-03-29T16:48:03.411297Z",
     "iopub.status.busy": "2024-03-29T16:48:03.410189Z",
     "iopub.status.idle": "2024-03-29T16:48:07.295498Z",
     "shell.execute_reply": "2024-03-29T16:48:07.294222Z"
    },
    "papermill": {
     "duration": 3.89941,
     "end_time": "2024-03-29T16:48:07.298685",
     "exception": false,
     "start_time": "2024-03-29T16:48:03.399275",
     "status": "completed"
    },
    "tags": []
   },
   "outputs": [],
   "source": [
    "#Importing modules\n",
    "import numpy as np\n",
    "import pandas as pd\n",
    "from sklearn.ensemble import RandomForestClassifier\n",
    "from sklearn.neighbors import KNeighborsClassifier\n",
    "from sklearn.svm import SVC\n",
    "from sklearn.dummy import DummyClassifier\n",
    "from sklearn.preprocessing import OneHotEncoder\n",
    "from sklearn.feature_extraction.text import TfidfVectorizer\n",
    "from sklearn.model_selection import cross_val_score, train_test_split, GridSearchCV\n",
    "from imblearn.over_sampling import RandomOverSampler\n",
    "from sklearn.neural_network import MLPClassifier\n",
    "import seaborn as sns\n",
    "import matplotlib.pyplot as plt\n",
    "from sklearn.pipeline import Pipeline\n",
    "from sklearn.compose import ColumnTransformer\n",
    "import xgboost as xgb"
   ]
  },
  {
   "cell_type": "code",
   "execution_count": 3,
   "id": "4427e2bd",
   "metadata": {
    "execution": {
     "iopub.execute_input": "2024-03-29T16:48:07.321050Z",
     "iopub.status.busy": "2024-03-29T16:48:07.320208Z",
     "iopub.status.idle": "2024-03-29T16:48:07.575519Z",
     "shell.execute_reply": "2024-03-29T16:48:07.574352Z"
    },
    "papermill": {
     "duration": 0.269778,
     "end_time": "2024-03-29T16:48:07.578610",
     "exception": false,
     "start_time": "2024-03-29T16:48:07.308832",
     "status": "completed"
    },
    "tags": []
   },
   "outputs": [],
   "source": [
    "#Importing the data.\n",
    "trainset = pd.read_csv(\"/kaggle/input/recipe-for-rating-predict-food-ratings-using-ml/train.csv\")\n",
    "testset = pd.read_csv(\"/kaggle/input/recipe-for-rating-predict-food-ratings-using-ml/test.csv\")"
   ]
  },
  {
   "cell_type": "code",
   "execution_count": 4,
   "id": "f7fa26f9",
   "metadata": {
    "execution": {
     "iopub.execute_input": "2024-03-29T16:48:07.600150Z",
     "iopub.status.busy": "2024-03-29T16:48:07.599246Z",
     "iopub.status.idle": "2024-03-29T16:48:07.677497Z",
     "shell.execute_reply": "2024-03-29T16:48:07.675537Z"
    },
    "papermill": {
     "duration": 0.092302,
     "end_time": "2024-03-29T16:48:07.680463",
     "exception": false,
     "start_time": "2024-03-29T16:48:07.588161",
     "status": "completed"
    },
    "tags": []
   },
   "outputs": [
    {
     "name": "stdout",
     "output_type": "stream",
     "text": [
      "Shape of training data:  (13636, 15)\n",
      "Datatypes of each feature:  ID                    int64\n",
      "RecipeNumber          int64\n",
      "RecipeCode            int64\n",
      "RecipeName           object\n",
      "CommentID            object\n",
      "UserID               object\n",
      "UserName             object\n",
      "UserReputation        int64\n",
      "CreationTimestamp     int64\n",
      "ReplyCount            int64\n",
      "ThumbsUpCount         int64\n",
      "ThumbsDownCount       int64\n",
      "Rating                int64\n",
      "BestScore             int64\n",
      "Recipe_Review        object\n",
      "dtype: object\n",
      "                 ID  RecipeNumber     RecipeCode  UserReputation  \\\n",
      "count  13636.000000  13636.000000   13636.000000    13636.000000   \n",
      "mean     121.085289     38.624377   21785.990833        2.160311   \n",
      "std      116.995633     29.672351   23883.189918       10.086424   \n",
      "min        0.000000      1.000000     386.000000        0.000000   \n",
      "25%       45.000000     12.000000    6504.000000        1.000000   \n",
      "50%       91.000000     33.000000   14600.000000        1.000000   \n",
      "75%      148.000000     63.000000   33121.000000        1.000000   \n",
      "max      724.000000    100.000000  191775.000000      510.000000   \n",
      "\n",
      "       CreationTimestamp    ReplyCount  ThumbsUpCount  ThumbsDownCount  \\\n",
      "count       1.363600e+04  13636.000000   13636.000000     13636.000000   \n",
      "mean        1.623713e+09      0.014520       1.098269         0.543708   \n",
      "std         5.444020e+06      0.137323       4.166487         3.265660   \n",
      "min         1.613035e+09      0.000000       0.000000         0.000000   \n",
      "25%         1.622717e+09      0.000000       0.000000         0.000000   \n",
      "50%         1.622718e+09      0.000000       0.000000         0.000000   \n",
      "75%         1.622718e+09      0.000000       0.000000         0.000000   \n",
      "max         1.665756e+09      3.000000      80.000000       126.000000   \n",
      "\n",
      "             Rating     BestScore  \n",
      "count  13636.000000  13636.000000  \n",
      "mean       4.288721    153.127897  \n",
      "std        1.544839    140.986908  \n",
      "min        0.000000      0.000000  \n",
      "25%        5.000000    100.000000  \n",
      "50%        5.000000    100.000000  \n",
      "75%        5.000000    100.000000  \n",
      "max        5.000000    946.000000  \n",
      "['ID', 'RecipeNumber', 'RecipeCode', 'UserReputation', 'CreationTimestamp', 'ReplyCount', 'ThumbsUpCount', 'ThumbsDownCount', 'Rating', 'BestScore']\n"
     ]
    }
   ],
   "source": [
    "#Exploratory Data Analysis\n",
    "print(\"Shape of training data: \",trainset.shape)\n",
    "print(\"Datatypes of each feature: \",trainset.dtypes)\n",
    "print(trainset.describe())\n",
    "\n",
    "train_cols_with_null = []\n",
    "for col in trainset.columns:\n",
    "    if trainset[col].isnull().sum()!=0:\n",
    "        train_cols_with_null.append(col)\n",
    "\n",
    "test_cols_with_null = []\n",
    "for col in testset.columns:\n",
    "    if testset[col].isnull().sum()!=0:\n",
    "        test_cols_with_null.append(col)\n",
    "\n",
    "# Finding numerical features\n",
    "numerical_features = trainset.select_dtypes(include=['int', 'float']).columns.tolist()\n",
    "print(numerical_features)        "
   ]
  },
  {
   "cell_type": "code",
   "execution_count": 5,
   "id": "7935dbd2",
   "metadata": {
    "execution": {
     "iopub.execute_input": "2024-03-29T16:48:07.701721Z",
     "iopub.status.busy": "2024-03-29T16:48:07.701268Z",
     "iopub.status.idle": "2024-03-29T16:48:08.432840Z",
     "shell.execute_reply": "2024-03-29T16:48:08.431705Z"
    },
    "papermill": {
     "duration": 0.745717,
     "end_time": "2024-03-29T16:48:08.435838",
     "exception": false,
     "start_time": "2024-03-29T16:48:07.690121",
     "status": "completed"
    },
    "tags": []
   },
   "outputs": [
    {
     "data": {
      "image/png": "[encoded data removed]",
      "text/plain": [
       "<Figure size 640x480 with 2 Axes>"
      ]
     },
     "metadata": {},
     "output_type": "display_data"
    }
   ],
   "source": [
    "#Correlation Matrix\n",
    "corr_matrix = trainset[numerical_features].corr()\n",
    "sns.heatmap(corr_matrix, annot=True, cmap='coolwarm')\n",
    "plt.show()"
   ]
  },
  {
   "cell_type": "code",
   "execution_count": 6,
   "id": "5626c749",
   "metadata": {
    "execution": {
     "iopub.execute_input": "2024-03-29T16:48:08.462358Z",
     "iopub.status.busy": "2024-03-29T16:48:08.461110Z",
     "iopub.status.idle": "2024-03-29T16:48:08.772711Z",
     "shell.execute_reply": "2024-03-29T16:48:08.771525Z"
    },
    "papermill": {
     "duration": 0.328057,
     "end_time": "2024-03-29T16:48:08.775455",
     "exception": false,
     "start_time": "2024-03-29T16:48:08.447398",
     "status": "completed"
    },
    "tags": []
   },
   "outputs": [
    {
     "data": {
      "image/png": "[encoded data removed]",
      "text/plain": [
       "<Figure size 1000x600 with 1 Axes>"
      ]
     },
     "metadata": {},
     "output_type": "display_data"
    }
   ],
   "source": [
    "# Counting the occurrences of each class label\n",
    "class_counts = trainset['Rating'].value_counts()\n",
    "\n",
    "# Plotting\n",
    "plt.figure(figsize=(10, 6))\n",
    "sns.barplot(x=class_counts.index, y=class_counts.values, palette='viridis')\n",
    "plt.title('Distribution of Classes')\n",
    "plt.xlabel('Class Label')\n",
    "plt.ylabel('Frequency')\n",
    "plt.xticks(rotation=45)\n",
    "plt.show()\n",
    "\n",
    "# The dataset is unbalanced and thus, needs to be balanced before the model building process."
   ]
  },
  {
   "cell_type": "code",
   "execution_count": 7,
   "id": "e8e2367b",
   "metadata": {
    "execution": {
     "iopub.execute_input": "2024-03-29T16:48:08.800634Z",
     "iopub.status.busy": "2024-03-29T16:48:08.800240Z",
     "iopub.status.idle": "2024-03-29T16:48:08.809873Z",
     "shell.execute_reply": "2024-03-29T16:48:08.808589Z"
    },
    "papermill": {
     "duration": 0.025327,
     "end_time": "2024-03-29T16:48:08.812387",
     "exception": false,
     "start_time": "2024-03-29T16:48:08.787060",
     "status": "completed"
    },
    "tags": []
   },
   "outputs": [],
   "source": [
    "#Cleaning the data by filling missing values.\n",
    "for col in train_cols_with_null:\n",
    "    trainset[col].fillna(\" \",inplace=True)\n",
    "for col in test_cols_with_null:\n",
    "    testset[col].fillna(\" \",inplace=True)"
   ]
  },
  {
   "cell_type": "code",
   "execution_count": 8,
   "id": "61ffa6aa",
   "metadata": {
    "execution": {
     "iopub.execute_input": "2024-03-29T16:48:08.838168Z",
     "iopub.status.busy": "2024-03-29T16:48:08.837546Z",
     "iopub.status.idle": "2024-03-29T16:48:09.701998Z",
     "shell.execute_reply": "2024-03-29T16:48:09.700716Z"
    },
    "papermill": {
     "duration": 0.88085,
     "end_time": "2024-03-29T16:48:09.704998",
     "exception": false,
     "start_time": "2024-03-29T16:48:08.824148",
     "status": "completed"
    },
    "tags": []
   },
   "outputs": [],
   "source": [
    "#Vectorizing the text.\n",
    "tfidf_vectorizer = TfidfVectorizer(max_features=1000, stop_words='english')\n",
    "X_train_text_tfidf = tfidf_vectorizer.fit_transform(trainset['Recipe_Review'])\n",
    "X_test_text_tfidf = tfidf_vectorizer.transform(testset['Recipe_Review'])"
   ]
  },
  {
   "cell_type": "code",
   "execution_count": 9,
   "id": "cf2b2e0e",
   "metadata": {
    "execution": {
     "iopub.execute_input": "2024-03-29T16:48:09.731420Z",
     "iopub.status.busy": "2024-03-29T16:48:09.730995Z",
     "iopub.status.idle": "2024-03-29T16:48:09.796790Z",
     "shell.execute_reply": "2024-03-29T16:48:09.795688Z"
    },
    "papermill": {
     "duration": 0.082569,
     "end_time": "2024-03-29T16:48:09.799552",
     "exception": false,
     "start_time": "2024-03-29T16:48:09.716983",
     "status": "completed"
    },
    "tags": []
   },
   "outputs": [],
   "source": [
    "# One-hot encoding the categorical features.\n",
    "categorical_columns = ['RecipeNumber', 'RecipeCode']\n",
    "onehot_encoder = OneHotEncoder(sparse_output=False, handle_unknown='ignore')\n",
    "X_train_cat_encoded = onehot_encoder.fit_transform(\n",
    "    trainset[categorical_columns])\n",
    "X_test_cat_encoded = onehot_encoder.transform(testset[categorical_columns])"
   ]
  },
  {
   "cell_type": "code",
   "execution_count": 10,
   "id": "0b2ce0f6",
   "metadata": {
    "execution": {
     "iopub.execute_input": "2024-03-29T16:48:09.824992Z",
     "iopub.status.busy": "2024-03-29T16:48:09.824582Z",
     "iopub.status.idle": "2024-03-29T16:48:09.835744Z",
     "shell.execute_reply": "2024-03-29T16:48:09.834470Z"
    },
    "papermill": {
     "duration": 0.027394,
     "end_time": "2024-03-29T16:48:09.838710",
     "exception": false,
     "start_time": "2024-03-29T16:48:09.811316",
     "status": "completed"
    },
    "tags": []
   },
   "outputs": [],
   "source": [
    "#Dropping features.\n",
    "columns_to_drop = ['RecipeName', 'CommentID', 'UserID',\n",
    "                   'UserName','Recipe_Review', 'RecipeNumber', 'RecipeCode']\n",
    "trainset = trainset.drop(columns=columns_to_drop)\n",
    "testset = testset.drop(columns=columns_to_drop)"
   ]
  },
  {
   "cell_type": "code",
   "execution_count": 11,
   "id": "08f3d811",
   "metadata": {
    "execution": {
     "iopub.execute_input": "2024-03-29T16:48:09.864284Z",
     "iopub.status.busy": "2024-03-29T16:48:09.863864Z",
     "iopub.status.idle": "2024-03-29T16:48:09.870680Z",
     "shell.execute_reply": "2024-03-29T16:48:09.869722Z"
    },
    "papermill": {
     "duration": 0.022273,
     "end_time": "2024-03-29T16:48:09.872973",
     "exception": false,
     "start_time": "2024-03-29T16:48:09.850700",
     "status": "completed"
    },
    "tags": []
   },
   "outputs": [],
   "source": [
    "#Splitting into Features and target.\n",
    "X_train = trainset.drop('Rating', axis=1)\n",
    "y_train = trainset['Rating']\n",
    "X_test = testset"
   ]
  },
  {
   "cell_type": "code",
   "execution_count": 12,
   "id": "63b6b574",
   "metadata": {
    "execution": {
     "iopub.execute_input": "2024-03-29T16:48:09.898875Z",
     "iopub.status.busy": "2024-03-29T16:48:09.898414Z",
     "iopub.status.idle": "2024-03-29T16:48:10.318807Z",
     "shell.execute_reply": "2024-03-29T16:48:10.317639Z"
    },
    "papermill": {
     "duration": 0.436704,
     "end_time": "2024-03-29T16:48:10.321777",
     "exception": false,
     "start_time": "2024-03-29T16:48:09.885073",
     "status": "completed"
    },
    "tags": []
   },
   "outputs": [],
   "source": [
    "#Concatenating the vectorized text with the dataset.\n",
    "X_train_text_tfidf_df = pd.DataFrame(X_train_text_tfidf.toarray(), columns=tfidf_vectorizer.get_feature_names_out())\n",
    "X_test_text_tfidf_df = pd.DataFrame(X_test_text_tfidf.toarray(), columns=tfidf_vectorizer.get_feature_names_out())\n",
    "tf_columns_to_drop = [\"10\", \"12\", \"13\", \"15\", \"16\", \"18\", \"20\", \"25\",\n",
    "                      \"2nd\", \"30\", \"34\", \"35\", \"350\", \"39\", \"40\", \"45\", \"50\", \"9x13\", \"14\"]\n",
    "X_train_text_tfidf_df.drop(columns=tf_columns_to_drop, inplace=True)\n",
    "X_test_text_tfidf_df.drop(columns=tf_columns_to_drop, inplace=True)\n",
    "X_train = pd.concat([X_train_text_tfidf_df, X_train.reset_index(drop=True)], axis=1)\n",
    "X_test = pd.concat([X_test_text_tfidf_df, X_test.reset_index(drop=True)], axis=1)"
   ]
  },
  {
   "cell_type": "code",
   "execution_count": 13,
   "id": "8173d808",
   "metadata": {
    "execution": {
     "iopub.execute_input": "2024-03-29T16:48:10.347385Z",
     "iopub.status.busy": "2024-03-29T16:48:10.346258Z",
     "iopub.status.idle": "2024-03-29T16:48:10.542258Z",
     "shell.execute_reply": "2024-03-29T16:48:10.541008Z"
    },
    "papermill": {
     "duration": 0.211701,
     "end_time": "2024-03-29T16:48:10.545081",
     "exception": false,
     "start_time": "2024-03-29T16:48:10.333380",
     "status": "completed"
    },
    "tags": []
   },
   "outputs": [],
   "source": [
    "# Combining the one-hot encoded features with the rest of the dataset.\n",
    "X_train = pd.concat([pd.DataFrame(X_train_cat_encoded, columns=onehot_encoder.get_feature_names_out(\n",
    ")), X_train.reset_index(drop=True)], axis=1)\n",
    "X_test = pd.concat([pd.DataFrame(X_test_cat_encoded, columns=onehot_encoder.get_feature_names_out(\n",
    ")), X_test.reset_index(drop=True)], axis=1)"
   ]
  },
  {
   "cell_type": "code",
   "execution_count": 14,
   "id": "93785bc0",
   "metadata": {
    "execution": {
     "iopub.execute_input": "2024-03-29T16:48:10.571592Z",
     "iopub.status.busy": "2024-03-29T16:48:10.571177Z",
     "iopub.status.idle": "2024-03-29T16:48:12.367802Z",
     "shell.execute_reply": "2024-03-29T16:48:12.366396Z"
    },
    "papermill": {
     "duration": 1.813324,
     "end_time": "2024-03-29T16:48:12.370283",
     "exception": false,
     "start_time": "2024-03-29T16:48:10.556959",
     "status": "completed"
    },
    "tags": []
   },
   "outputs": [
    {
     "name": "stdout",
     "output_type": "stream",
     "text": [
      "(62226, 1188)\n"
     ]
    }
   ],
   "source": [
    "#Oversampling the classes.\n",
    "oversampler = RandomOverSampler(sampling_strategy='auto', random_state=42)\n",
    "X_train, y_train = oversampler.fit_resample(X_train, y_train)\n",
    "\n",
    "print(X_train.shape)\n",
    "# X_train, X_val, y_train, y_val = train_test_split(X_train, y_train, test_size=0.1, random_state=42)"
   ]
  },
  {
   "cell_type": "markdown",
   "id": "2c817bec",
   "metadata": {
    "papermill": {
     "duration": 0.011707,
     "end_time": "2024-03-29T16:48:12.393878",
     "exception": false,
     "start_time": "2024-03-29T16:48:12.382171",
     "status": "completed"
    },
    "tags": []
   },
   "source": [
    "# **Dummy Classifier**"
   ]
  },
  {
   "cell_type": "code",
   "execution_count": 15,
   "id": "bb5dce4e",
   "metadata": {
    "execution": {
     "iopub.execute_input": "2024-03-29T16:48:12.421347Z",
     "iopub.status.busy": "2024-03-29T16:48:12.420607Z",
     "iopub.status.idle": "2024-03-29T16:48:12.429055Z",
     "shell.execute_reply": "2024-03-29T16:48:12.427720Z"
    },
    "papermill": {
     "duration": 0.024516,
     "end_time": "2024-03-29T16:48:12.431769",
     "exception": false,
     "start_time": "2024-03-29T16:48:12.407253",
     "status": "completed"
    },
    "tags": []
   },
   "outputs": [
    {
     "data": {
      "text/plain": [
       "\"dummy_classifier = DummyClassifier(strategy='stratified') \\ndummy_classifier.fit(X_train, y_train)\\n\\ny_pred = dummy_classifier.predict(X_test)\\n\\nsubmission_df = pd.DataFrame({'Rating': y_pred})\\nsubmission_df['ID'] = range(1, len(submission_df) + 1)\\nsubmission_df = submission_df[['ID', 'Rating']]                              \\n\\nsubmission_file_path = '/kaggle/working/submission.csv'\\nsubmission_df.to_csv(submission_file_path, index=False)\""
      ]
     },
     "execution_count": 15,
     "metadata": {},
     "output_type": "execute_result"
    }
   ],
   "source": [
    "'''dummy_classifier = DummyClassifier(strategy='stratified') \n",
    "dummy_classifier.fit(X_train, y_train)\n",
    "\n",
    "y_pred = dummy_classifier.predict(X_test)\n",
    "\n",
    "submission_df = pd.DataFrame({'Rating': y_pred})\n",
    "submission_df['ID'] = range(1, len(submission_df) + 1)\n",
    "submission_df = submission_df[['ID', 'Rating']]                              \n",
    "\n",
    "submission_file_path = '/kaggle/working/submission.csv'\n",
    "submission_df.to_csv(submission_file_path, index=False)'''"
   ]
  },
  {
   "cell_type": "markdown",
   "id": "1a179d5b",
   "metadata": {
    "papermill": {
     "duration": 0.012269,
     "end_time": "2024-03-29T16:48:12.456204",
     "exception": false,
     "start_time": "2024-03-29T16:48:12.443935",
     "status": "completed"
    },
    "tags": []
   },
   "source": [
    "# **KNN Algorithm with hyperparameter tuning**"
   ]
  },
  {
   "cell_type": "code",
   "execution_count": 16,
   "id": "ee8e3205",
   "metadata": {
    "execution": {
     "iopub.execute_input": "2024-03-29T16:48:12.482134Z",
     "iopub.status.busy": "2024-03-29T16:48:12.481711Z",
     "iopub.status.idle": "2024-03-29T16:48:12.490844Z",
     "shell.execute_reply": "2024-03-29T16:48:12.489401Z"
    },
    "papermill": {
     "duration": 0.025314,
     "end_time": "2024-03-29T16:48:12.493440",
     "exception": false,
     "start_time": "2024-03-29T16:48:12.468126",
     "status": "completed"
    },
    "tags": []
   },
   "outputs": [
    {
     "data": {
      "text/plain": [
       "'# Define the parameter values that should be searched\\nk_range = list(range(1, 31))\\n\\n# Create a parameter grid: map the parameter names to the values that should be searched\\nparam_grid = dict(n_neighbors=k_range)\\n\\n# Instantiate the grid\\ngrid = GridSearchCV(KNeighborsClassifier(), param_grid, cv=2, scoring=\\'accuracy\\')\\n\\n# Fit the grid with data\\ngrid.fit(X_train, y_train)\\n\\n# View the results\\nprint(\"Best Parameters:\", grid.best_params_)\\nprint(\"Best Accuracy:\", grid.best_score_)\\n\\n#Best found parameter is 26.'"
      ]
     },
     "execution_count": 16,
     "metadata": {},
     "output_type": "execute_result"
    }
   ],
   "source": [
    "'''# Define the parameter values that should be searched\n",
    "k_range = list(range(1, 31))\n",
    "\n",
    "# Create a parameter grid: map the parameter names to the values that should be searched\n",
    "param_grid = dict(n_neighbors=k_range)\n",
    "\n",
    "# Instantiate the grid\n",
    "grid = GridSearchCV(KNeighborsClassifier(), param_grid, cv=2, scoring='accuracy')\n",
    "\n",
    "# Fit the grid with data\n",
    "grid.fit(X_train, y_train)\n",
    "\n",
    "# View the results\n",
    "print(\"Best Parameters:\", grid.best_params_)\n",
    "print(\"Best Accuracy:\", grid.best_score_)\n",
    "\n",
    "#Best found parameter is 26.'''"
   ]
  },
  {
   "cell_type": "markdown",
   "id": "b728cb5d",
   "metadata": {
    "papermill": {
     "duration": 0.011741,
     "end_time": "2024-03-29T16:48:12.517454",
     "exception": false,
     "start_time": "2024-03-29T16:48:12.505713",
     "status": "completed"
    },
    "tags": []
   },
   "source": [
    "# **SVM Algorithm with hyperparameter tuning**"
   ]
  },
  {
   "cell_type": "code",
   "execution_count": 17,
   "id": "fd8e513d",
   "metadata": {
    "execution": {
     "iopub.execute_input": "2024-03-29T16:48:12.544333Z",
     "iopub.status.busy": "2024-03-29T16:48:12.543927Z",
     "iopub.status.idle": "2024-03-29T16:48:12.551404Z",
     "shell.execute_reply": "2024-03-29T16:48:12.550368Z"
    },
    "papermill": {
     "duration": 0.023606,
     "end_time": "2024-03-29T16:48:12.553650",
     "exception": false,
     "start_time": "2024-03-29T16:48:12.530044",
     "status": "completed"
    },
    "tags": []
   },
   "outputs": [
    {
     "data": {
      "text/plain": [
       "'# Define the parameter values that should be searched\\nparam_grid = [\\n  {\\'C\\': [1, 10, 100, 1000], \\'kernel\\': [\\'linear\\']},\\n  {\\'C\\': [1, 10, 100, 1000], \\'gamma\\': [0.001, 0.0001], \\'kernel\\': [\\'rbf\\']},\\n]\\n\\n# Instantiate the grid\\ngrid = GridSearchCV(SVC(), param_grid, cv=2, scoring=\\'accuracy\\')\\n\\n# Fit the grid with data\\ngrid.fit(X_train, y_train)\\n\\n# View the complete results\\nprint(\"Best Parameters:\", grid.best_params_)\\nprint(\"Best Accuracy:\", grid.best_score_)'"
      ]
     },
     "execution_count": 17,
     "metadata": {},
     "output_type": "execute_result"
    }
   ],
   "source": [
    "'''# Define the parameter values that should be searched\n",
    "param_grid = [\n",
    "  {'C': [1, 10, 100, 1000], 'kernel': ['linear']},\n",
    "  {'C': [1, 10, 100, 1000], 'gamma': [0.001, 0.0001], 'kernel': ['rbf']},\n",
    "]\n",
    "\n",
    "# Instantiate the grid\n",
    "grid = GridSearchCV(SVC(), param_grid, cv=2, scoring='accuracy')\n",
    "\n",
    "# Fit the grid with data\n",
    "grid.fit(X_train, y_train)\n",
    "\n",
    "# View the complete results\n",
    "print(\"Best Parameters:\", grid.best_params_)\n",
    "print(\"Best Accuracy:\", grid.best_score_)'''"
   ]
  },
  {
   "cell_type": "markdown",
   "id": "7b60c880",
   "metadata": {
    "papermill": {
     "duration": 0.012207,
     "end_time": "2024-03-29T16:48:12.578183",
     "exception": false,
     "start_time": "2024-03-29T16:48:12.565976",
     "status": "completed"
    },
    "tags": []
   },
   "source": [
    "# **Random Forest Algorithm with hyperparameter tuning**"
   ]
  },
  {
   "cell_type": "code",
   "execution_count": 18,
   "id": "0e922f75",
   "metadata": {
    "execution": {
     "iopub.execute_input": "2024-03-29T16:48:12.604539Z",
     "iopub.status.busy": "2024-03-29T16:48:12.604095Z",
     "iopub.status.idle": "2024-03-29T16:48:12.612267Z",
     "shell.execute_reply": "2024-03-29T16:48:12.611113Z"
    },
    "papermill": {
     "duration": 0.024007,
     "end_time": "2024-03-29T16:48:12.614479",
     "exception": false,
     "start_time": "2024-03-29T16:48:12.590472",
     "status": "completed"
    },
    "tags": []
   },
   "outputs": [
    {
     "data": {
      "text/plain": [
       "'rf_classifier = RandomForestClassifier(n_estimators=89, random_state=42)\\n\\n# cross validation score\\nscores = cross_val_score(rf_classifier, X_train, y_train, cv=2)\\nprint(\"Accuracy for each fold: \", scores)\\nprint(\"Mean accuracy: \", scores.mean())'"
      ]
     },
     "execution_count": 18,
     "metadata": {},
     "output_type": "execute_result"
    }
   ],
   "source": [
    "'''#Training the model.\n",
    "rf_classifier = RandomForestClassifier()\n",
    "\n",
    "# Define the parameter grid\n",
    "param_grid = {\n",
    "    'n_estimators': list(range(80,101))\n",
    "}\n",
    "\n",
    "# Perform grid search\n",
    "grid_search = GridSearchCV(rf_classifier, param_grid, cv=2, scoring='accuracy')\n",
    "grid_search.fit(X_train, y_train)\n",
    "\n",
    "# Print the best parameters and accuracy\n",
    "print(\"Best Parameters:\", grid_search.best_params_)\n",
    "print(\"Best Accuracy:\", grid_search.best_score_)'''\n",
    "\n",
    "'''rf_classifier = RandomForestClassifier(n_estimators=89, random_state=42)\n",
    "\n",
    "# cross validation score\n",
    "scores = cross_val_score(rf_classifier, X_train, y_train, cv=2)\n",
    "print(\"Accuracy for each fold: \", scores)\n",
    "print(\"Mean accuracy: \", scores.mean())'''"
   ]
  },
  {
   "cell_type": "markdown",
   "id": "a3e5a2b1",
   "metadata": {
    "papermill": {
     "duration": 0.012175,
     "end_time": "2024-03-29T16:48:12.638981",
     "exception": false,
     "start_time": "2024-03-29T16:48:12.626806",
     "status": "completed"
    },
    "tags": []
   },
   "source": [
    "# **Multilayered Perceptron classifier**\n"
   ]
  },
  {
   "cell_type": "code",
   "execution_count": 19,
   "id": "8d036cbb",
   "metadata": {
    "execution": {
     "iopub.execute_input": "2024-03-29T16:48:12.665858Z",
     "iopub.status.busy": "2024-03-29T16:48:12.664936Z",
     "iopub.status.idle": "2024-03-29T16:48:12.672405Z",
     "shell.execute_reply": "2024-03-29T16:48:12.670915Z"
    },
    "papermill": {
     "duration": 0.023612,
     "end_time": "2024-03-29T16:48:12.674926",
     "exception": false,
     "start_time": "2024-03-29T16:48:12.651314",
     "status": "completed"
    },
    "tags": []
   },
   "outputs": [
    {
     "data": {
      "text/plain": [
       "'clf = MLPClassifier(solver=\\'lbfgs\\', alpha=1e-5, hidden_layer_sizes=(5, 2), random_state=42)\\n\\nscores = cross_val_score(clf, X_train, y_train, cv=2)\\nprint(\"Accuracy for each fold: \", scores)\\nprint(\"Mean accuracy: \", scores.mean())'"
      ]
     },
     "execution_count": 19,
     "metadata": {},
     "output_type": "execute_result"
    }
   ],
   "source": [
    "'''clf = MLPClassifier(solver='lbfgs', alpha=1e-5, hidden_layer_sizes=(5, 2), random_state=42)\n",
    "\n",
    "scores = cross_val_score(clf, X_train, y_train, cv=2)\n",
    "print(\"Accuracy for each fold: \", scores)\n",
    "print(\"Mean accuracy: \", scores.mean())'''"
   ]
  },
  {
   "cell_type": "markdown",
   "id": "25c3b304",
   "metadata": {
    "papermill": {
     "duration": 0.012209,
     "end_time": "2024-03-29T16:48:12.699973",
     "exception": false,
     "start_time": "2024-03-29T16:48:12.687764",
     "status": "completed"
    },
    "tags": []
   },
   "source": [
    "# **Accuracy and insights achieved by various ML Models**\n",
    "\n",
    "* **Dummy Classifier:** The dummy classifier is just used to check if the preprocessing steps maintain the integrity of the data. \n",
    "* **KNN Algorithm:** The best found **n_neighbors** parameter is **26** for the dataset. The accuracy achieved by this model was **0.76**.\n",
    "* **SVM Algorithm:** SVM, being a very computationally expensive algorithm takes a lot of time to train on the dataset. The accuracy achieved by this model with **5 fold cross validation** was **0.78**.\n",
    "* **Multilayered Perceptron:** The perceptron algorithm provided the worst result out of all the above algorithms. The accuracy achieved with **2 fold cross validation** was **0.16**."
   ]
  },
  {
   "cell_type": "markdown",
   "id": "6ad49dba",
   "metadata": {
    "papermill": {
     "duration": 0.012905,
     "end_time": "2024-03-29T16:48:12.725985",
     "exception": false,
     "start_time": "2024-03-29T16:48:12.713080",
     "status": "completed"
    },
    "tags": []
   },
   "source": [
    "**The Random Forest Model** provides the best accuracy out of all the above models. The dataset demonstrates a complex relationship between the target and the features. Thus, a complex model like the **rf_classifier** tends to provide the best results. "
   ]
  },
  {
   "cell_type": "markdown",
   "id": "3358f180",
   "metadata": {
    "papermill": {
     "duration": 0.012273,
     "end_time": "2024-03-29T16:48:12.751711",
     "exception": false,
     "start_time": "2024-03-29T16:48:12.739438",
     "status": "completed"
    },
    "tags": []
   },
   "source": [
    "# **Prediction with the best found model**"
   ]
  },
  {
   "cell_type": "code",
   "execution_count": 20,
   "id": "919bf83c",
   "metadata": {
    "execution": {
     "iopub.execute_input": "2024-03-29T16:48:12.778819Z",
     "iopub.status.busy": "2024-03-29T16:48:12.778379Z",
     "iopub.status.idle": "2024-03-29T16:49:15.422563Z",
     "shell.execute_reply": "2024-03-29T16:49:15.421215Z"
    },
    "papermill": {
     "duration": 62.661564,
     "end_time": "2024-03-29T16:49:15.425858",
     "exception": false,
     "start_time": "2024-03-29T16:48:12.764294",
     "status": "completed"
    },
    "tags": []
   },
   "outputs": [],
   "source": [
    "rf_classifier = RandomForestClassifier(n_estimators=89, random_state=42)\n",
    "rf_classifier.fit(X_train, y_train)\n",
    "\n",
    "y_pred = rf_classifier.predict(X_test)\n",
    "\n",
    "'''knn_classifier = KNeighborsClassifier(n_neighbors=26)\n",
    "knn_classifier.fit(X_train,y_train)\n",
    "\n",
    "y_pred = knn_classifier.predict(X_test)'''\n",
    "\n",
    "'''clf = xgb.XGBClassifier(objective='multi:softmax', num_class=6)\n",
    "clf.fit(X_train, y_train)\n",
    "\n",
    "y_pred = clf.predict(X_test)'''\n",
    "\n",
    "#Putting the prediction into csv.\n",
    "submission_df = pd.DataFrame({'Rating': y_pred})\n",
    "submission_df['ID'] = range(1, len(submission_df) + 1)\n",
    "submission_df = submission_df[['ID', 'Rating']]\n",
    "\n",
    "#Creating the submission csv.\n",
    "submission_file_path = '/kaggle/working/submission.csv'\n",
    "submission_df.to_csv(submission_file_path, index=False)"
   ]
  }
 ],
 "metadata": {
  "kaggle": {
   "accelerator": "none",
   "dataSources": [
    {
     "databundleVersionId": 7452256,
     "sourceId": 67079,
     "sourceType": "competition"
    }
   ],
   "dockerImageVersionId": 30626,
   "isGpuEnabled": false,
   "isInternetEnabled": false,
   "language": "python",
   "sourceType": "notebook"
  },
  "kernelspec": {
   "display_name": "Python 3",
   "language": "python",
   "name": "python3"
  },
  "language_info": {
   "codemirror_mode": {
    "name": "ipython",
    "version": 3
   },
   "file_extension": ".py",
   "mimetype": "text/x-python",
   "name": "python",
   "nbconvert_exporter": "python",
   "pygments_lexer": "ipython3",
   "version": "3.10.12"
  },
  "papermill": {
   "default_parameters": {},
   "duration": 77.82755,
   "end_time": "2024-03-29T16:49:16.262376",
   "environment_variables": {},
   "exception": null,
   "input_path": "__notebook__.ipynb",
   "output_path": "__notebook__.ipynb",
   "parameters": {},
   "start_time": "2024-03-29T16:47:58.434826",
   "version": "2.4.0"
  }
 },
 "nbformat": 4,
 "nbformat_minor": 5
}
